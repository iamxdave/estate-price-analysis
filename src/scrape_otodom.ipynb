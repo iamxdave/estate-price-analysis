{
 "cells": [
  {
   "cell_type": "code",
   "execution_count": 1,
   "id": "db442afe",
   "metadata": {},
   "outputs": [],
   "source": [
    "from scrapper.scrape import scrape_pagination"
   ]
  },
  {
   "cell_type": "code",
   "execution_count": null,
   "id": "f4c082f4-79fb-4aff-ba0b-b569f387a2f3",
   "metadata": {},
   "outputs": [],
   "source": [
    "paged_html = scrape_pagination(url='https://www.otodom.pl/pl/wyniki/sprzedaz/mieszkanie,rynek-pierwotny/cala-polska', times=2209)"
   ]
  },
  {
   "cell_type": "code",
   "execution_count": null,
   "id": "4dbc3562-7453-48ed-99d8-f6e4bbc31306",
   "metadata": {},
   "outputs": [
    {
     "name": "stdout",
     "output_type": "stream",
     "text": [
      "No offer data found in the provided HTML.\n",
      "No offer data found in the provided HTML.\n",
      "Saving data to C:\\Users\\Dawid\\Desktop\\data\\offers.json\n"
     ]
    }
   ],
   "source": [
    "from scrapper.otodom import get_offer_paged_data\n",
    "\n",
    "offers = get_offer_paged_data(paged_html)\n",
    "\n",
    "from data.save_data import save_json_data\n",
    "\n",
    "save_json_data(offers, 'offers')"
   ]
  }
 ],
 "metadata": {
  "kernelspec": {
   "display_name": "Python 3 (ipykernel)",
   "language": "python",
   "name": "python3"
  },
  "language_info": {
   "codemirror_mode": {
    "name": "ipython",
    "version": 3
   },
   "file_extension": ".py",
   "mimetype": "text/x-python",
   "name": "python",
   "nbconvert_exporter": "python",
   "pygments_lexer": "ipython3",
   "version": "3.11.7"
  }
 },
 "nbformat": 4,
 "nbformat_minor": 5
}
